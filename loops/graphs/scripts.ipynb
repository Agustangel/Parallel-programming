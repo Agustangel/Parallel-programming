{
 "cells": [
  {
   "cell_type": "code",
   "execution_count": null,
   "metadata": {
    "vscode": {
     "languageId": "plaintext"
    }
   },
   "outputs": [],
   "source": [
    "import matplotlib.pyplot as plt\n",
    "import numpy"
   ]
  },
  {
   "cell_type": "code",
   "execution_count": null,
   "metadata": {
    "vscode": {
     "languageId": "plaintext"
    }
   },
   "outputs": [],
   "source": [
    "nprocs = numpy.array([1000, 2000, 3000, 4000, 5000])\n",
    "time_seq = numpy.array([0.012871, 0.051402, 0.118599, 0.235215, 0.354533])\n",
    "times_mpi = numpy.array([0.015289, 0.030280, 0.076057, 0.106009, 0.175366])\n",
    "times_mp  = numpy.array([0.003229, 0.012254, 0.028400, 0.050913, 0.080942])\n",
    "\n",
    "plt.title(\"Loop dependence. NProc = 8\")\n",
    "plt.plot(nprocs, times_mpi, label=\"OpenMPI\", marker='o')\n",
    "plt.plot(nprocs, times_mp, label=\"OpenMP\", marker='o')\n",
    "plt.plot(nprocs, time_seq, label =\"Sequential\", marker='o')\n",
    "plt.grid()\n",
    "plt.legend()\n",
    "plt.ylabel(\"Execution time\")\n",
    "plt.xlabel(\"Array size\")\n",
    "plt.show()\n",
    "plt.clf()"
   ]
  },
  {
   "cell_type": "code",
   "execution_count": null,
   "metadata": {
    "vscode": {
     "languageId": "plaintext"
    }
   },
   "outputs": [],
   "source": [
    "time_seq_ = 0.234936\n",
    "nprocs_ = numpy.array([2, 4, 6, 8])\n",
    "times_mpi = numpy.array([0.142594, 0.094452, 0.082339, 0.105550])\n",
    "times_mp = numpy.array([0.122684, 0.077556, 0.062002, 0.064073])\n",
    "\n",
    "plt.title(\"Loop-independent dependence\")\n",
    "plt.plot(nprocs_, time_seq_ / times_mpi, label=\"OpenMPI\", marker='o')\n",
    "plt.plot(nprocs_, time_seq_ / times_mp, label=\"OpenMP\", marker='o')\n",
    "plt.grid()\n",
    "plt.legend()\n",
    "plt.ylabel(\"Speedup\")\n",
    "plt.xlabel(\"NProc\")\n",
    "plt.show()\n",
    "plt.clf()"
   ]
  }
 ],
 "metadata": {
  "language_info": {
   "name": "python"
  }
 },
 "nbformat": 4,
 "nbformat_minor": 2
}
